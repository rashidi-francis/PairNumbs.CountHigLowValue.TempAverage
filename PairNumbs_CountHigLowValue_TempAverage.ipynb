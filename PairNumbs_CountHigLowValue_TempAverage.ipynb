{
  "nbformat": 4,
  "nbformat_minor": 0,
  "metadata": {
    "colab": {
      "provenance": []
    },
    "kernelspec": {
      "name": "python3",
      "display_name": "Python 3"
    },
    "language_info": {
      "name": "python"
    }
  },
  "cells": [
    {
      "cell_type": "code",
      "execution_count": null,
      "metadata": {
        "id": "3515qH5DTLFb"
      },
      "outputs": [],
      "source": [
        "numeros = [1, 2, 3, 10, 12]"
      ]
    },
    {
      "cell_type": "code",
      "source": [
        "for numero in numeros:\n",
        "    if numero == 10:\n",
        "        break\n",
        "    print(numero)\n",
        "else:\n",
        "    print('Acabou')"
      ],
      "metadata": {
        "colab": {
          "base_uri": "https://localhost:8080/"
        },
        "id": "sHgj9sMuaVXM",
        "outputId": "fbfb6bb1-dbc0-4bdf-cab3-3b404ce76d3a"
      },
      "execution_count": null,
      "outputs": [
        {
          "output_type": "stream",
          "name": "stdout",
          "text": [
            "1\n",
            "2\n",
            "3\n"
          ]
        }
      ]
    },
    {
      "cell_type": "code",
      "source": [
        "for numero in [0, 18, 56, 77, 95]:\n",
        "  print(numero)\n",
        "else:\n",
        "    print(\"Acabou\")"
      ],
      "metadata": {
        "colab": {
          "base_uri": "https://localhost:8080/"
        },
        "id": "M8cZOnQheyq4",
        "outputId": "39f4bf38-1dec-4348-cfe8-7a25a36c769c"
      },
      "execution_count": null,
      "outputs": [
        {
          "output_type": "stream",
          "name": "stdout",
          "text": [
            "0\n",
            "18\n",
            "56\n",
            "77\n",
            "95\n",
            "Acabou\n"
          ]
        }
      ]
    },
    {
      "cell_type": "markdown",
      "source": [
        "#programing using commands in which finds pair numbs between 1 to 100\n",
        "numeros = [1,100,2]"
      ],
      "metadata": {
        "id": "qh8tcgj2hh6A"
      }
    },
    {
      "cell_type": "code",
      "source": [
        "numeros = [1,101,2]"
      ],
      "metadata": {
        "id": "9Vbg7Unemy8j"
      },
      "execution_count": null,
      "outputs": []
    },
    {
      "cell_type": "code",
      "source": [
        "for numeros in range(0,101,2):\n",
        "  print(numeros)\n"
      ],
      "metadata": {
        "colab": {
          "base_uri": "https://localhost:8080/"
        },
        "id": "xkJ-2zrol4nb",
        "outputId": "cb31b8eb-0f78-44c2-a1fd-bfd6696cfde0"
      },
      "execution_count": null,
      "outputs": [
        {
          "output_type": "stream",
          "name": "stdout",
          "text": [
            "0\n",
            "2\n",
            "4\n",
            "6\n",
            "8\n",
            "10\n",
            "12\n",
            "14\n",
            "16\n",
            "18\n",
            "20\n",
            "22\n",
            "24\n",
            "26\n",
            "28\n",
            "30\n",
            "32\n",
            "34\n",
            "36\n",
            "38\n",
            "40\n",
            "42\n",
            "44\n",
            "46\n",
            "48\n",
            "50\n",
            "52\n",
            "54\n",
            "56\n",
            "58\n",
            "60\n",
            "62\n",
            "64\n",
            "66\n",
            "68\n",
            "70\n",
            "72\n",
            "74\n",
            "76\n",
            "78\n",
            "80\n",
            "82\n",
            "84\n",
            "86\n",
            "88\n",
            "90\n",
            "92\n",
            "94\n",
            "96\n",
            "98\n",
            "100\n"
          ]
        }
      ]
    },
    {
      "cell_type": "markdown",
      "source": [
        "faça um programa em python (utilize a estrutura for) que leia 10 valores inteiros e : encontre e mostre o maior valor\n"
      ],
      "metadata": {
        "id": "PkDxPEu82UbO"
      }
    },
    {
      "cell_type": "code",
      "source": [
        "maior_valor = None\n",
        "for i in range (10):\n",
        "  valor = int(input(f\"Digite o {i+1}º valor inteiro: \"))\n",
        "  if maior_valor is None or valor > maior_valor:\n",
        "        maior_valor = valor\n",
        "print(\"O maior valor digitado é:\", maior_valor)"
      ],
      "metadata": {
        "colab": {
          "base_uri": "https://localhost:8080/"
        },
        "id": "bHRdzYQCj-5E",
        "outputId": "496ad8b9-9bbc-4ae9-a610-a207e657c678"
      },
      "execution_count": null,
      "outputs": [
        {
          "output_type": "stream",
          "name": "stdout",
          "text": [
            "Digite o 1º valor inteiro: 2\n",
            "Digite o 2º valor inteiro: 15\n",
            "Digite o 3º valor inteiro: 20\n",
            "Digite o 4º valor inteiro: 50\n",
            "Digite o 5º valor inteiro: 4\n",
            "Digite o 6º valor inteiro: 7\n",
            "Digite o 7º valor inteiro: 9\n",
            "Digite o 8º valor inteiro: 0\n",
            "Digite o 9º valor inteiro: 10\n",
            "Digite o 10º valor inteiro: 22\n",
            "O maior valor digitado é: 50\n"
          ]
        }
      ]
    },
    {
      "cell_type": "markdown",
      "source": [
        "Agora encontre e mostre o menor valor"
      ],
      "metadata": {
        "id": "mprXmK6R6E_8"
      }
    },
    {
      "cell_type": "code",
      "source": [
        "menor_valor = None\n",
        "for i in range (10):\n",
        "  valor = int(input(f\"Digite o {i+1}º valor inteiro: \"))\n",
        "  if menor_valor is None or valor < menor_valor:\n",
        "        menor_valor = valor\n",
        "print(\"O menor valor digitado é:\", menor_valor)"
      ],
      "metadata": {
        "colab": {
          "base_uri": "https://localhost:8080/"
        },
        "id": "y1ZHORQL6Izv",
        "outputId": "eccc9601-1b72-477c-8468-e97b91b496b8"
      },
      "execution_count": null,
      "outputs": [
        {
          "output_type": "stream",
          "name": "stdout",
          "text": [
            "Digite o 1º valor inteiro: 2\n",
            "Digite o 2º valor inteiro: 5\n",
            "Digite o 3º valor inteiro: 7\n",
            "Digite o 4º valor inteiro: 9\n",
            "Digite o 5º valor inteiro: 1\n",
            "Digite o 6º valor inteiro: 90\n",
            "Digite o 7º valor inteiro: 25\n",
            "Digite o 8º valor inteiro: 67\n",
            "Digite o 9º valor inteiro: 54\n",
            "Digite o 10º valor inteiro: 23\n",
            "O menor valor digitado é: 1\n"
          ]
        }
      ]
    },
    {
      "cell_type": "markdown",
      "source": [
        "Agora Calcule e mostre a média dos numeros lidos"
      ],
      "metadata": {
        "id": "I9bn2v5q6-qq"
      }
    },
    {
      "cell_type": "code",
      "source": [
        "soma = 0\n",
        "for i in range (10):\n",
        "  valor = int(input(f\"Digite o {i+1}º valor inteiro: \"))\n",
        "  soma += valor\n",
        "  valor = soma / 10\n",
        "  print(\"A média de somatório é:\", valor)"
      ],
      "metadata": {
        "colab": {
          "base_uri": "https://localhost:8080/"
        },
        "id": "KKsGBgpF7Gld",
        "outputId": "a36a81da-a6f4-4e48-e814-76b5ec106949"
      },
      "execution_count": null,
      "outputs": [
        {
          "output_type": "stream",
          "name": "stdout",
          "text": [
            "Digite o 1º valor inteiro: 26\n",
            "A média de somatório é: 2.6\n",
            "Digite o 2º valor inteiro: 14\n",
            "A média de somatório é: 4.0\n",
            "Digite o 3º valor inteiro: 15\n",
            "A média de somatório é: 5.5\n",
            "Digite o 4º valor inteiro: 5\n",
            "A média de somatório é: 6.0\n",
            "Digite o 5º valor inteiro: 10\n",
            "A média de somatório é: 7.0\n",
            "Digite o 6º valor inteiro: 4\n",
            "A média de somatório é: 7.4\n",
            "Digite o 7º valor inteiro: 6\n",
            "A média de somatório é: 8.0\n",
            "Digite o 8º valor inteiro: 7\n",
            "A média de somatório é: 8.7\n",
            "Digite o 9º valor inteiro: 3\n",
            "A média de somatório é: 9.0\n",
            "Digite o 10º valor inteiro: 10\n",
            "A média de somatório é: 10.0\n"
          ]
        }
      ]
    },
    {
      "cell_type": "markdown",
      "source": [
        "Faça um programa em linguagem Python que recebe a temperaturade z cliente e imprima a mensagem de se a temperatura está normal (menor que 37,2°C) ou está em estado febril (37,3°C a 38°C) ou com febre (38°C a 39°C) ou ainda se febre alta (acima de 39°C). No final mostre a quantidade de pessoas analisadas e a média de temperatura."
      ],
      "metadata": {
        "id": "rAsuzLbcbkHr"
      }
    },
    {
      "cell_type": "code",
      "source": [
        "TempNormal = 37.2"
      ],
      "metadata": {
        "id": "FSPMZcd791K6"
      },
      "execution_count": null,
      "outputs": []
    },
    {
      "cell_type": "code",
      "source": [
        "int(input('Digite sua temperatura: '))"
      ],
      "metadata": {
        "colab": {
          "base_uri": "https://localhost:8080/"
        },
        "id": "PKRDqzUr-7aK",
        "outputId": "ba8e0eb0-3e1d-4c15-f826-be196097de0c"
      },
      "execution_count": null,
      "outputs": [
        {
          "name": "stdout",
          "output_type": "stream",
          "text": [
            "Digite sua temperatura: 37\n"
          ]
        },
        {
          "output_type": "execute_result",
          "data": {
            "text/plain": [
              "37"
            ]
          },
          "metadata": {},
          "execution_count": 76
        }
      ]
    },
    {
      "cell_type": "code",
      "source": [
        "if TempNormal <37.2:\n",
        "  print('Sua Temperatura está Normal. Parabéns! continue se cuidando. ')\n",
        "\n"
      ],
      "metadata": {
        "id": "pw0y_PFT-dhg"
      },
      "execution_count": null,
      "outputs": []
    }
  ]
}